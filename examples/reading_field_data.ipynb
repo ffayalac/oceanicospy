{
 "cells": [
  {
   "cell_type": "markdown",
   "id": "13d07658",
   "metadata": {},
   "source": [
    "# Importing libraries"
   ]
  },
  {
   "cell_type": "code",
   "execution_count": 17,
   "id": "4e801733",
   "metadata": {},
   "outputs": [],
   "source": [
    "from oceanicospy.observations import AQUAlogger,RBR\n",
    "\n",
    "from datetime import datetime, timedelta\n",
    "from pathlib import Path\n",
    "import os"
   ]
  },
  {
   "cell_type": "code",
   "execution_count": 24,
   "id": "5cde80d0",
   "metadata": {},
   "outputs": [
    {
     "name": "stdout",
     "output_type": "stream",
     "text": [
      "../data/May2025/AQ/AQ1_inreefball_SB/\n",
      "                     pressure[bar]  depth[m]  depth_aux[m]  burstId\n",
      "date                                                               \n",
      "2025-05-09 10:00:00       1.245722  3.136509      2.307327        1\n",
      "2025-05-09 10:00:01       1.244709  3.124966      2.297273        1\n",
      "2025-05-09 10:00:02       1.237181  3.039040      2.222556        1\n",
      "2025-05-09 10:00:03       1.243695  3.113418      2.287209        1\n",
      "2025-05-09 10:00:04       1.253249  3.222086      2.382034        1\n",
      "...                            ...       ...           ...      ...\n",
      "2025-05-19 16:34:03       1.239498  3.065513      2.245553      124\n",
      "2025-05-19 16:34:04       1.242248  3.096910      2.272847      124\n",
      "2025-05-19 16:34:05       1.237905  3.047316      2.229742      124\n",
      "2025-05-19 16:34:06       1.243406  3.110117      2.284341      124\n",
      "2025-05-19 16:34:07       1.239063  3.060552      2.241236      124\n",
      "\n",
      "[253952 rows x 4 columns]\n",
      "../data/May2025/AQ/AQ2_outreefball_SB/\n",
      "                     pressure[bar]  depth[m]  depth_aux[m]  burstId\n",
      "date                                                               \n",
      "2025-05-09 10:00:00       1.229707  2.953382      2.148376        1\n",
      "2025-05-09 10:00:01       1.225594  2.906098      2.107553        1\n",
      "2025-05-09 10:00:02       1.224634  2.895049      2.098025        1\n",
      "2025-05-09 10:00:03       1.218876  2.828627      2.040876        1\n",
      "2025-05-09 10:00:04       1.217368  2.811194      2.025909        1\n",
      "...                            ...       ...           ...      ...\n",
      "2025-05-19 16:34:03       1.227650  2.929754      2.127959      124\n",
      "2025-05-19 16:34:04       1.226828  2.920295      2.119801      124\n",
      "2025-05-19 16:34:05       1.221069  2.853958      2.062642      124\n",
      "2025-05-19 16:34:06       1.221755  2.861866      2.069450      124\n",
      "2025-05-19 16:34:07       1.220247  2.844463      2.054483      124\n",
      "\n",
      "[253952 rows x 4 columns]\n",
      "../data/May2025/RBR/RBR1_SoundBay_ReefBall_Out_serial95/234695_20250520_1211/\n",
      "                         pressure[bar]  depth[m]  burstId\n",
      "date                                                     \n",
      "2025-05-09 09:10:00.000       1.244235  2.291010        1\n",
      "2025-05-09 09:10:00.500       1.245580  2.304350        1\n",
      "2025-05-09 09:10:01.000       1.246808  2.316537        1\n",
      "2025-05-09 09:10:01.500       1.246042  2.308939        1\n",
      "2025-05-09 09:10:02.000       1.246522  2.313698        1\n",
      "...                                ...       ...      ...\n",
      "2025-05-19 17:59:57.500       1.228489  2.134836      249\n",
      "2025-05-19 17:59:58.000       1.228343  2.133389      249\n",
      "2025-05-19 17:59:58.500       1.226372  2.113838      249\n",
      "2025-05-19 17:59:59.000       1.226182  2.111960      249\n",
      "2025-05-19 17:59:59.500       1.231584  2.165540      249\n",
      "\n",
      "[1791600 rows x 3 columns]\n"
     ]
    }
   ],
   "source": [
    "measurement_paths = ['../data/May2025/AQ/AQ1_inreefball_SB/',\n",
    "                     '../data/May2025/AQ/AQ2_outreefball_SB/',\n",
    "                     '../data/May2025/RBR/RBR1_SoundBay_ReefBall_Out_serial95/234695_20250520_1211/',\n",
    "                     '../data/May2025/RBR/RBR2_SoundBay_OutBarrier_serial96/234696_20250520_1727/'] \n",
    "\n",
    "sampling_AQ1=dict(anchoring_depth=1,sensor_height=0.2,sampling_freq=1,burst_length_s=2048,temperature=False,\n",
    "                            start_time=datetime(2025,5,9,10,0,0),end_time=datetime(2025,5,19,18,0,0)-timedelta(seconds=1))\n",
    "sampling_AQ2=dict(anchoring_depth=1,sensor_height=0.2,sampling_freq=1,burst_length_s=2048,temperature=False,\n",
    "                            start_time=datetime(2025,5,9,10,0,0),end_time=datetime(2025,5,19,18,0,0)-timedelta(seconds=1))\n",
    "sampling_RBR1=dict(anchoring_depth=1,sensor_height=0.2,sampling_freq=2,burst_length_s=7200,\n",
    "                            start_time=datetime(2025,5,9,9,10,0),end_time=datetime(2025,5,19,18,0,0)-timedelta(seconds=0.5))\n",
    "sampling_RBR2=dict(anchoring_depth=1,sensor_height=0.2,sampling_freq=2,burst_length_s=7200,\n",
    "                            start_time=datetime(2025,5,9,9,10,0),end_time=datetime(2025,5,19,18,0,0)-timedelta(seconds=0.5))\n",
    "\n",
    "sampling_data = [sampling_AQ1, sampling_AQ2,sampling_RBR1,sampling_RBR2]\n",
    "metadata_list=['AQ1_May_2025_SB','AQ2_May_2025_SB','RBR1_May_2025_SB','RBR2_May_2025_SB']\n",
    "dict_raw_measurements = dict()\n",
    "dict_clean_measurements = dict()\n",
    "\n",
    "dict_spectra = dict()\n",
    "dict_freq = dict()\n",
    "dict_IMFs = dict()\n",
    "\n",
    "for idx,measurement_path in enumerate(measurement_paths[:-1]):\n",
    "    print(measurement_path)\n",
    "    if 'AQ' in measurement_path:\n",
    "        AQ = AQUAlogger(measurement_path, sampling_data[idx])\n",
    "        AQ_clean_data = AQ.get_clean_records()\n",
    "        print(AQ_clean_data)\n",
    "    if 'RBR' in measurement_path:\n",
    "        RBR_obj = RBR(measurement_path, sampling_data[idx])\n",
    "        RBR_clean_data = RBR_obj.get_clean_records()\n",
    "        print(RBR_clean_data)"
   ]
  },
  {
   "cell_type": "code",
   "execution_count": null,
   "id": "a297139b",
   "metadata": {},
   "outputs": [],
   "source": []
  }
 ],
 "metadata": {
  "kernelspec": {
   "display_name": "general",
   "language": "python",
   "name": "python3"
  },
  "language_info": {
   "codemirror_mode": {
    "name": "ipython",
    "version": 3
   },
   "file_extension": ".py",
   "mimetype": "text/x-python",
   "name": "python",
   "nbconvert_exporter": "python",
   "pygments_lexer": "ipython3",
   "version": "3.10.9"
  }
 },
 "nbformat": 4,
 "nbformat_minor": 5
}
