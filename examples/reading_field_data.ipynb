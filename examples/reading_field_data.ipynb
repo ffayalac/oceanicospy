{
 "cells": [
  {
   "cell_type": "markdown",
   "id": "13d07658",
   "metadata": {},
   "source": [
    "# Importing libraries"
   ]
  },
  {
   "cell_type": "code",
   "execution_count": 23,
   "id": "4e801733",
   "metadata": {},
   "outputs": [],
   "source": [
    "from oceanicospy.observations import AQUAlogger,RBR\n",
    "\n",
    "from datetime import datetime, timedelta\n",
    "import matplotlib.pyplot as plt\n",
    "from pathlib import Path\n",
    "import os\n",
    "\n",
    "plt.rcParamsDefault['figure.dpi'] = 300"
   ]
  },
  {
   "cell_type": "code",
   "execution_count": 10,
   "id": "5cde80d0",
   "metadata": {},
   "outputs": [
    {
     "name": "stdout",
     "output_type": "stream",
     "text": [
      "../data/May2025/AQ/AQ1_inreefball_SB/\n",
      "../data/May2025/AQ/AQ2_outreefball_SB/\n",
      "../data/May2025/RBR/RBR1_SoundBay_ReefBall_Out_serial95/234695_20250520_1211/\n"
     ]
    }
   ],
   "source": [
    "measurement_paths = ['../data/May2025/AQ/AQ1_inreefball_SB/',\n",
    "                     '../data/May2025/AQ/AQ2_outreefball_SB/',\n",
    "                     '../data/May2025/RBR/RBR1_SoundBay_ReefBall_Out_serial95/234695_20250520_1211/',\n",
    "                     '../data/May2025/RBR/RBR2_SoundBay_OutBarrier_serial96/234696_20250520_1727/'] \n",
    "\n",
    "sampling_AQ1=dict(anchoring_depth=1,sensor_height=0.2,sampling_freq=1,burst_length_s=2048,temperature=False,\n",
    "                            start_time=datetime(2025,5,9,10,0,0),end_time=datetime(2025,5,19,18,0,0)-timedelta(seconds=1))\n",
    "sampling_AQ2=dict(anchoring_depth=1,sensor_height=0.2,sampling_freq=1,burst_length_s=2048,temperature=False,\n",
    "                            start_time=datetime(2025,5,9,10,0,0),end_time=datetime(2025,5,19,18,0,0)-timedelta(seconds=1))\n",
    "sampling_RBR1=dict(anchoring_depth=1,sensor_height=0.2,sampling_freq=2,burst_length_s=7200,\n",
    "                            start_time=datetime(2025,5,9,10,0,0),end_time=datetime(2025,5,19,18,0,0)-timedelta(seconds=0.5))\n",
    "sampling_RBR2=dict(anchoring_depth=1,sensor_height=0.2,sampling_freq=2,burst_length_s=7200,\n",
    "                            start_time=datetime(2025,5,9,10,0,0),end_time=datetime(2025,5,19,18,0,0)-timedelta(seconds=0.5))\n",
    "\n",
    "sampling_data = [sampling_AQ1, sampling_AQ2,sampling_RBR1,sampling_RBR2]\n",
    "metadata_list=['AQ1_May_2025_SB','AQ2_May_2025_SB','RBR1_May_2025_SB','RBR2_May_2025_SB']\n",
    "dict_raw_measurements = dict()\n",
    "dict_clean_measurements = dict()\n",
    "\n",
    "dict_spectra = dict()\n",
    "dict_freq = dict()\n",
    "dict_IMFs = dict()\n",
    "\n",
    "for idx,measurement_path in enumerate(measurement_paths[:-1]):\n",
    "    print(measurement_path)\n",
    "    if 'AQ' in measurement_path:\n",
    "        AQ = AQUAlogger(measurement_path, sampling_data[idx])\n",
    "        AQ_clean_data = AQ.get_clean_records()\n",
    "        dict_clean_measurements[metadata_list[idx]] = AQ_clean_data\n",
    "    if 'RBR' in measurement_path:\n",
    "        RBR_obj = RBR(measurement_path, sampling_data[idx])\n",
    "        RBR_clean_data = RBR_obj.get_clean_records()\n",
    "        dict_clean_measurements[metadata_list[idx]] = RBR_clean_data"
   ]
  },
  {
   "cell_type": "code",
   "execution_count": 30,
   "id": "a297139b",
   "metadata": {},
   "outputs": [
    {
     "data": {
      "application/vnd.microsoft.datawrangler.viewer.v0+json": {
       "columns": [
        {
         "name": "date",
         "rawType": "datetime64[ns]",
         "type": "datetime"
        },
        {
         "name": "pressure[bar]",
         "rawType": "float64",
         "type": "float"
        },
        {
         "name": "depth[m]",
         "rawType": "float64",
         "type": "float"
        },
        {
         "name": "burstId",
         "rawType": "int64",
         "type": "integer"
        }
       ],
       "ref": "1a951e8d-f5da-4183-939b-f1251af329b1",
       "rows": [
        [
         "2025-05-09 10:00:00",
         "1.24182893",
         "2.2671495",
         "1"
        ],
        [
         "2025-05-09 10:00:01",
         "1.23531388",
         "2.2025303",
         "1"
        ],
        [
         "2025-05-09 10:00:02",
         "1.23446589",
         "2.1941195",
         "1"
        ],
        [
         "2025-05-09 10:00:03",
         "1.22832689",
         "2.1332302",
         "1"
        ],
        [
         "2025-05-09 10:00:04",
         "1.22684654",
         "2.1185474",
         "1"
        ],
        [
         "2025-05-09 10:00:05",
         "1.22630016",
         "2.1131281",
         "1"
        ],
        [
         "2025-05-09 10:00:06",
         "1.22825535",
         "2.1325206",
         "1"
        ],
        [
         "2025-05-09 10:00:07",
         "1.23150041",
         "2.1647065",
         "1"
        ],
        [
         "2025-05-09 10:00:08",
         "1.22746939",
         "2.1247251",
         "1"
        ],
        [
         "2025-05-09 10:00:09",
         "1.22083282",
         "2.0589006",
         "1"
        ],
        [
         "2025-05-09 10:00:10",
         "1.22465274",
         "2.0967883",
         "1"
        ],
        [
         "2025-05-09 10:00:11",
         "1.23194296",
         "2.169096",
         "1"
        ],
        [
         "2025-05-09 10:00:12",
         "1.22984636",
         "2.148301",
         "1"
        ],
        [
         "2025-05-09 10:00:13",
         "1.22743798",
         "2.1244135",
         "1"
        ],
        [
         "2025-05-09 10:00:14",
         "1.22855677",
         "2.1355102",
         "1"
        ],
        [
         "2025-05-09 10:00:15",
         "1.22953064",
         "2.1451695",
         "1"
        ],
        [
         "2025-05-09 10:00:16",
         "1.23761081",
         "2.2253123",
         "1"
        ],
        [
         "2025-05-09 10:00:17",
         "1.2306371",
         "2.1561439",
         "1"
        ],
        [
         "2025-05-09 10:00:18",
         "1.22079457",
         "2.0585212",
         "1"
        ],
        [
         "2025-05-09 10:00:19",
         "1.2222119299999998",
         "2.0725792",
         "1"
        ],
        [
         "2025-05-09 10:00:20",
         "1.22898218",
         "2.1397296",
         "1"
        ],
        [
         "2025-05-09 10:00:21",
         "1.23609701",
         "2.2102977",
         "1"
        ],
        [
         "2025-05-09 10:00:22",
         "1.23142212",
         "2.16393",
         "1"
        ],
        [
         "2025-05-09 10:00:23",
         "1.22400891",
         "2.0904025",
         "1"
        ],
        [
         "2025-05-09 10:00:24",
         "1.22425309",
         "2.0928243",
         "1"
        ],
        [
         "2025-05-09 10:00:25",
         "1.23094233",
         "2.1591713",
         "1"
        ],
        [
         "2025-05-09 10:00:26",
         "1.23116179",
         "2.161348",
         "1"
        ],
        [
         "2025-05-09 10:00:27",
         "1.22166921",
         "2.0671962",
         "1"
        ],
        [
         "2025-05-09 10:00:28",
         "1.22332237",
         "2.0835931",
         "1"
        ],
        [
         "2025-05-09 10:00:29",
         "1.2328862900000002",
         "2.1784523",
         "1"
        ],
        [
         "2025-05-09 10:00:30",
         "1.23826134",
         "2.2317645",
         "1"
        ],
        [
         "2025-05-09 10:00:31",
         "1.23361313",
         "2.1856615",
         "1"
        ],
        [
         "2025-05-09 10:00:32",
         "1.22867705",
         "2.1367032",
         "1"
        ],
        [
         "2025-05-09 10:00:33",
         "1.2316624900000002",
         "2.1663142",
         "1"
        ],
        [
         "2025-05-09 10:00:34",
         "1.23680097",
         "2.2172799",
         "1"
        ],
        [
         "2025-05-09 10:00:35",
         "1.23653102",
         "2.2146025",
         "1"
        ],
        [
         "2025-05-09 10:00:36",
         "1.23468051",
         "2.1962482",
         "1"
        ],
        [
         "2025-05-09 10:00:37",
         "1.2281571100000002",
         "2.1315462",
         "1"
        ],
        [
         "2025-05-09 10:00:38",
         "1.22198873",
         "2.0703654",
         "1"
        ],
        [
         "2025-05-09 10:00:39",
         "1.2238524800000001",
         "2.088851",
         "1"
        ],
        [
         "2025-05-09 10:00:40",
         "1.23044728",
         "2.1542612",
         "1"
        ],
        [
         "2025-05-09 10:00:41",
         "1.22821911",
         "2.1321611",
         "1"
        ],
        [
         "2025-05-09 10:00:42",
         "1.22617409",
         "2.1118777",
         "1"
        ],
        [
         "2025-05-09 10:00:43",
         "1.2295592499999999",
         "2.1454533",
         "1"
        ],
        [
         "2025-05-09 10:00:44",
         "1.22354917",
         "2.0858426",
         "1"
        ],
        [
         "2025-05-09 10:00:45",
         "1.22222242",
         "2.0726832",
         "1"
        ],
        [
         "2025-05-09 10:00:46",
         "1.22855963",
         "2.1355385",
         "1"
        ],
        [
         "2025-05-09 10:00:47",
         "1.2455301",
         "2.3038594",
         "1"
        ],
        [
         "2025-05-09 10:00:48",
         "1.23829475",
         "2.2320959",
         "1"
        ],
        [
         "2025-05-09 10:00:49",
         "1.2321108",
         "2.1707607",
         "1"
        ]
       ],
       "shape": {
        "columns": 3,
        "rows": 892800
       }
      },
      "text/html": [
       "<div>\n",
       "<style scoped>\n",
       "    .dataframe tbody tr th:only-of-type {\n",
       "        vertical-align: middle;\n",
       "    }\n",
       "\n",
       "    .dataframe tbody tr th {\n",
       "        vertical-align: top;\n",
       "    }\n",
       "\n",
       "    .dataframe thead th {\n",
       "        text-align: right;\n",
       "    }\n",
       "</style>\n",
       "<table border=\"1\" class=\"dataframe\">\n",
       "  <thead>\n",
       "    <tr style=\"text-align: right;\">\n",
       "      <th></th>\n",
       "      <th>pressure[bar]</th>\n",
       "      <th>depth[m]</th>\n",
       "      <th>burstId</th>\n",
       "    </tr>\n",
       "    <tr>\n",
       "      <th>date</th>\n",
       "      <th></th>\n",
       "      <th></th>\n",
       "      <th></th>\n",
       "    </tr>\n",
       "  </thead>\n",
       "  <tbody>\n",
       "    <tr>\n",
       "      <th>2025-05-09 10:00:00</th>\n",
       "      <td>1.241829</td>\n",
       "      <td>2.267149</td>\n",
       "      <td>1</td>\n",
       "    </tr>\n",
       "    <tr>\n",
       "      <th>2025-05-09 10:00:01</th>\n",
       "      <td>1.235314</td>\n",
       "      <td>2.202530</td>\n",
       "      <td>1</td>\n",
       "    </tr>\n",
       "    <tr>\n",
       "      <th>2025-05-09 10:00:02</th>\n",
       "      <td>1.234466</td>\n",
       "      <td>2.194119</td>\n",
       "      <td>1</td>\n",
       "    </tr>\n",
       "    <tr>\n",
       "      <th>2025-05-09 10:00:03</th>\n",
       "      <td>1.228327</td>\n",
       "      <td>2.133230</td>\n",
       "      <td>1</td>\n",
       "    </tr>\n",
       "    <tr>\n",
       "      <th>2025-05-09 10:00:04</th>\n",
       "      <td>1.226847</td>\n",
       "      <td>2.118547</td>\n",
       "      <td>1</td>\n",
       "    </tr>\n",
       "    <tr>\n",
       "      <th>...</th>\n",
       "      <td>...</td>\n",
       "      <td>...</td>\n",
       "      <td>...</td>\n",
       "    </tr>\n",
       "    <tr>\n",
       "      <th>2025-05-19 17:59:55</th>\n",
       "      <td>1.230401</td>\n",
       "      <td>2.153801</td>\n",
       "      <td>248</td>\n",
       "    </tr>\n",
       "    <tr>\n",
       "      <th>2025-05-19 17:59:56</th>\n",
       "      <td>1.221551</td>\n",
       "      <td>2.066021</td>\n",
       "      <td>248</td>\n",
       "    </tr>\n",
       "    <tr>\n",
       "      <th>2025-05-19 17:59:57</th>\n",
       "      <td>1.225061</td>\n",
       "      <td>2.100837</td>\n",
       "      <td>248</td>\n",
       "    </tr>\n",
       "    <tr>\n",
       "      <th>2025-05-19 17:59:58</th>\n",
       "      <td>1.228343</td>\n",
       "      <td>2.133389</td>\n",
       "      <td>248</td>\n",
       "    </tr>\n",
       "    <tr>\n",
       "      <th>2025-05-19 17:59:59</th>\n",
       "      <td>1.226182</td>\n",
       "      <td>2.111960</td>\n",
       "      <td>248</td>\n",
       "    </tr>\n",
       "  </tbody>\n",
       "</table>\n",
       "<p>892800 rows × 3 columns</p>\n",
       "</div>"
      ],
      "text/plain": [
       "                     pressure[bar]  depth[m]  burstId\n",
       "date                                                 \n",
       "2025-05-09 10:00:00       1.241829  2.267149        1\n",
       "2025-05-09 10:00:01       1.235314  2.202530        1\n",
       "2025-05-09 10:00:02       1.234466  2.194119        1\n",
       "2025-05-09 10:00:03       1.228327  2.133230        1\n",
       "2025-05-09 10:00:04       1.226847  2.118547        1\n",
       "...                            ...       ...      ...\n",
       "2025-05-19 17:59:55       1.230401  2.153801      248\n",
       "2025-05-19 17:59:56       1.221551  2.066021      248\n",
       "2025-05-19 17:59:57       1.225061  2.100837      248\n",
       "2025-05-19 17:59:58       1.228343  2.133389      248\n",
       "2025-05-19 17:59:59       1.226182  2.111960      248\n",
       "\n",
       "[892800 rows x 3 columns]"
      ]
     },
     "execution_count": 30,
     "metadata": {},
     "output_type": "execute_result"
    }
   ],
   "source": [
    "dict_clean_measurements['RBR1_May_2025_SB'][::2]"
   ]
  },
  {
   "cell_type": "code",
   "execution_count": 31,
   "id": "63fb694f",
   "metadata": {},
   "outputs": [
    {
     "data": {
      "application/vnd.microsoft.datawrangler.viewer.v0+json": {
       "columns": [
        {
         "name": "date",
         "rawType": "datetime64[ns]",
         "type": "datetime"
        },
        {
         "name": "pressure[bar]",
         "rawType": "float64",
         "type": "float"
        },
        {
         "name": "depth[m]",
         "rawType": "float64",
         "type": "float"
        },
        {
         "name": "depth_aux[m]",
         "rawType": "float64",
         "type": "float"
        },
        {
         "name": "burstId",
         "rawType": "int64",
         "type": "integer"
        }
       ],
       "ref": "5cfc3973-af83-4205-b9a3-a65490e41443",
       "rows": [
        [
         "2025-05-09 10:00:00",
         "1.229707",
         "2.953382",
         "2.1483755451407305",
         "1"
        ],
        [
         "2025-05-09 10:00:01",
         "1.225594",
         "2.906098",
         "2.10755326349974",
         "1"
        ],
        [
         "2025-05-09 10:00:02",
         "1.224634",
         "2.895049",
         "2.098025086894986",
         "1"
        ],
        [
         "2025-05-09 10:00:03",
         "1.218876",
         "2.828627",
         "2.040875877634393",
         "1"
        ],
        [
         "2025-05-09 10:00:04",
         "1.217368",
         "2.811194",
         "2.025908700217759",
         "1"
        ],
        [
         "2025-05-09 10:00:05",
         "1.216956",
         "2.806436",
         "2.0218195244248847",
         "1"
        ],
        [
         "2025-05-09 10:00:06",
         "1.219424",
         "2.834963",
         "2.0463148784462732",
         "1"
        ],
        [
         "2025-05-09 10:00:07",
         "1.222029",
         "2.865029",
         "2.0721699826706295",
         "1"
        ],
        [
         "2025-05-09 10:00:08",
         "1.218053",
         "2.81912",
         "2.0327074512326093",
         "1"
        ],
        [
         "2025-05-09 10:00:09",
         "1.211198",
         "2.739703",
         "1.964670315164292",
         "1"
        ],
        [
         "2025-05-09 10:00:10",
         "1.215311",
         "2.787394",
         "2.0054925968052824",
         "1"
        ],
        [
         "2025-05-09 10:00:11",
         "1.222989",
         "2.876094",
         "2.0816981592753834",
         "1"
        ],
        [
         "2025-05-09 10:00:12",
         "1.220384",
         "2.846045",
         "2.055843055051025",
         "1"
        ],
        [
         "2025-05-09 10:00:13",
         "1.21819",
         "2.820705",
         "2.03406720143558",
         "1"
        ],
        [
         "2025-05-09 10:00:14",
         "1.219424",
         "2.834963",
         "2.0463148784462732",
         "1"
        ],
        [
         "2025-05-09 10:00:15",
         "1.220247",
         "2.844463",
         "2.0544833048480564",
         "1"
        ],
        [
         "2025-05-09 10:00:16",
         "1.227787",
         "2.93133",
         "2.129319191931222",
         "1"
        ],
        [
         "2025-05-09 10:00:17",
         "1.221069",
         "2.853958",
         "2.0626418060658755",
         "1"
        ],
        [
         "2025-05-09 10:00:18",
         "1.210924",
         "2.736519",
         "1.9619508147583509",
         "1"
        ],
        [
         "2025-05-09 10:00:19",
         "1.212843",
         "2.758794",
         "1.9809972427838944",
         "1"
        ],
        [
         "2025-05-09 10:00:20",
         "1.219698",
         "2.83813",
         "2.0490343788522116",
         "1"
        ],
        [
         "2025-05-09 10:00:21",
         "1.226828",
         "2.920295",
         "2.1198009405104328",
         "1"
        ],
        [
         "2025-05-09 10:00:22",
         "1.221892",
         "2.863448",
         "2.070810232467659",
         "1"
        ],
        [
         "2025-05-09 10:00:23",
         "1.214626",
         "2.779454",
         "1.9986938457904317",
         "1"
        ],
        [
         "2025-05-09 10:00:24",
         "1.2149",
         "2.782631",
         "2.001413346196373",
         "1"
        ],
        [
         "2025-05-09 10:00:25",
         "1.221892",
         "2.863448",
         "2.070810232467659",
         "1"
        ],
        [
         "2025-05-09 10:00:26",
         "1.221618",
         "2.860285",
         "2.06809073206172",
         "1"
        ],
        [
         "2025-05-09 10:00:27",
         "1.212158",
         "2.750842",
         "1.974198491769046",
         "1"
        ],
        [
         "2025-05-09 10:00:28",
         "1.214214",
         "2.774689",
         "1.9946046699975577",
         "1"
        ],
        [
         "2025-05-09 10:00:29",
         "1.223537",
         "2.882415",
         "2.0871371600872637",
         "1"
        ],
        [
         "2025-05-09 10:00:30",
         "1.228884",
         "2.943934",
         "2.140207118738947",
         "1"
        ],
        [
         "2025-05-09 10:00:31",
         "1.223948",
         "2.887154",
         "2.0912164106961733",
         "1"
        ],
        [
         "2025-05-09 10:00:32",
         "1.219287",
         "2.833379",
         "2.0449551282433025",
         "1"
        ],
        [
         "2025-05-09 10:00:33",
         "1.222166",
         "2.86661",
         "2.0735297328735998",
         "1"
        ],
        [
         "2025-05-09 10:00:34",
         "1.227376",
         "2.926601",
         "2.1252399413223126",
         "1"
        ],
        [
         "2025-05-09 10:00:35",
         "1.226965",
         "2.921871",
         "2.1211606907134035",
         "1"
        ],
        [
         "2025-05-09 10:00:36",
         "1.225182",
         "2.901364",
         "2.103464087706866",
         "1"
        ],
        [
         "2025-05-09 10:00:37",
         "1.218464",
         "2.823874",
         "2.036786701841519",
         "1"
        ],
        [
         "2025-05-09 10:00:38",
         "1.212432",
         "2.754023",
         "1.9769179921749849",
         "1"
        ],
        [
         "2025-05-09 10:00:39",
         "1.214488",
         "2.777866",
         "1.997324170403499",
         "1"
        ],
        [
         "2025-05-09 10:00:40",
         "1.220932",
         "2.852375",
         "2.061282055862905",
         "1"
        ],
        [
         "2025-05-09 10:00:41",
         "1.218464",
         "2.823874",
         "2.036786701841519",
         "1"
        ],
        [
         "2025-05-09 10:00:42",
         "1.217093",
         "2.808022",
         "2.0231792746278554",
         "1"
        ],
        [
         "2025-05-09 10:00:43",
         "1.219835",
         "2.839713",
         "2.0503941290551824",
         "1"
        ],
        [
         "2025-05-09 10:00:44",
         "1.21394",
         "2.771511",
         "1.9918851695916189",
         "1"
        ],
        [
         "2025-05-09 10:00:45",
         "1.212432",
         "2.754023",
         "1.9769179921749849",
         "1"
        ],
        [
         "2025-05-09 10:00:46",
         "1.219561",
         "2.836547",
         "2.0476746286492413",
         "1"
        ],
        [
         "2025-05-09 10:00:47",
         "1.236014",
         "3.02568",
         "2.2109736803971662",
         "1"
        ],
        [
         "2025-05-09 10:00:48",
         "1.228473",
         "2.939208",
         "2.1361278681300355",
         "1"
        ],
        [
         "2025-05-09 10:00:49",
         "1.222577",
         "2.871353",
         "2.0776089834825093",
         "1"
        ]
       ],
       "shape": {
        "columns": 4,
        "rows": 253952
       }
      },
      "text/html": [
       "<div>\n",
       "<style scoped>\n",
       "    .dataframe tbody tr th:only-of-type {\n",
       "        vertical-align: middle;\n",
       "    }\n",
       "\n",
       "    .dataframe tbody tr th {\n",
       "        vertical-align: top;\n",
       "    }\n",
       "\n",
       "    .dataframe thead th {\n",
       "        text-align: right;\n",
       "    }\n",
       "</style>\n",
       "<table border=\"1\" class=\"dataframe\">\n",
       "  <thead>\n",
       "    <tr style=\"text-align: right;\">\n",
       "      <th></th>\n",
       "      <th>pressure[bar]</th>\n",
       "      <th>depth[m]</th>\n",
       "      <th>depth_aux[m]</th>\n",
       "      <th>burstId</th>\n",
       "    </tr>\n",
       "    <tr>\n",
       "      <th>date</th>\n",
       "      <th></th>\n",
       "      <th></th>\n",
       "      <th></th>\n",
       "      <th></th>\n",
       "    </tr>\n",
       "  </thead>\n",
       "  <tbody>\n",
       "    <tr>\n",
       "      <th>2025-05-09 10:00:00</th>\n",
       "      <td>1.229707</td>\n",
       "      <td>2.953382</td>\n",
       "      <td>2.148376</td>\n",
       "      <td>1</td>\n",
       "    </tr>\n",
       "    <tr>\n",
       "      <th>2025-05-09 10:00:01</th>\n",
       "      <td>1.225594</td>\n",
       "      <td>2.906098</td>\n",
       "      <td>2.107553</td>\n",
       "      <td>1</td>\n",
       "    </tr>\n",
       "    <tr>\n",
       "      <th>2025-05-09 10:00:02</th>\n",
       "      <td>1.224634</td>\n",
       "      <td>2.895049</td>\n",
       "      <td>2.098025</td>\n",
       "      <td>1</td>\n",
       "    </tr>\n",
       "    <tr>\n",
       "      <th>2025-05-09 10:00:03</th>\n",
       "      <td>1.218876</td>\n",
       "      <td>2.828627</td>\n",
       "      <td>2.040876</td>\n",
       "      <td>1</td>\n",
       "    </tr>\n",
       "    <tr>\n",
       "      <th>2025-05-09 10:00:04</th>\n",
       "      <td>1.217368</td>\n",
       "      <td>2.811194</td>\n",
       "      <td>2.025909</td>\n",
       "      <td>1</td>\n",
       "    </tr>\n",
       "    <tr>\n",
       "      <th>...</th>\n",
       "      <td>...</td>\n",
       "      <td>...</td>\n",
       "      <td>...</td>\n",
       "      <td>...</td>\n",
       "    </tr>\n",
       "    <tr>\n",
       "      <th>2025-05-19 16:34:03</th>\n",
       "      <td>1.227650</td>\n",
       "      <td>2.929754</td>\n",
       "      <td>2.127959</td>\n",
       "      <td>124</td>\n",
       "    </tr>\n",
       "    <tr>\n",
       "      <th>2025-05-19 16:34:04</th>\n",
       "      <td>1.226828</td>\n",
       "      <td>2.920295</td>\n",
       "      <td>2.119801</td>\n",
       "      <td>124</td>\n",
       "    </tr>\n",
       "    <tr>\n",
       "      <th>2025-05-19 16:34:05</th>\n",
       "      <td>1.221069</td>\n",
       "      <td>2.853958</td>\n",
       "      <td>2.062642</td>\n",
       "      <td>124</td>\n",
       "    </tr>\n",
       "    <tr>\n",
       "      <th>2025-05-19 16:34:06</th>\n",
       "      <td>1.221755</td>\n",
       "      <td>2.861866</td>\n",
       "      <td>2.069450</td>\n",
       "      <td>124</td>\n",
       "    </tr>\n",
       "    <tr>\n",
       "      <th>2025-05-19 16:34:07</th>\n",
       "      <td>1.220247</td>\n",
       "      <td>2.844463</td>\n",
       "      <td>2.054483</td>\n",
       "      <td>124</td>\n",
       "    </tr>\n",
       "  </tbody>\n",
       "</table>\n",
       "<p>253952 rows × 4 columns</p>\n",
       "</div>"
      ],
      "text/plain": [
       "                     pressure[bar]  depth[m]  depth_aux[m]  burstId\n",
       "date                                                               \n",
       "2025-05-09 10:00:00       1.229707  2.953382      2.148376        1\n",
       "2025-05-09 10:00:01       1.225594  2.906098      2.107553        1\n",
       "2025-05-09 10:00:02       1.224634  2.895049      2.098025        1\n",
       "2025-05-09 10:00:03       1.218876  2.828627      2.040876        1\n",
       "2025-05-09 10:00:04       1.217368  2.811194      2.025909        1\n",
       "...                            ...       ...           ...      ...\n",
       "2025-05-19 16:34:03       1.227650  2.929754      2.127959      124\n",
       "2025-05-19 16:34:04       1.226828  2.920295      2.119801      124\n",
       "2025-05-19 16:34:05       1.221069  2.853958      2.062642      124\n",
       "2025-05-19 16:34:06       1.221755  2.861866      2.069450      124\n",
       "2025-05-19 16:34:07       1.220247  2.844463      2.054483      124\n",
       "\n",
       "[253952 rows x 4 columns]"
      ]
     },
     "execution_count": 31,
     "metadata": {},
     "output_type": "execute_result"
    }
   ],
   "source": [
    "dict_clean_measurements['AQ2_May_2025_SB']"
   ]
  },
  {
   "cell_type": "code",
   "execution_count": 49,
   "id": "ea55a2cf",
   "metadata": {},
   "outputs": [
    {
     "data": {
      "image/png": "[encoded data removed]",
      "text/plain": [
       "<Figure size 1000x600 with 3 Axes>"
      ]
     },
     "metadata": {},
     "output_type": "display_data"
    }
   ],
   "source": [
    "fig,[ax1,ax2,ax3]=plt.subplots(3,1,figsize=(10,6))\n",
    "ax1.plot(dict_clean_measurements['AQ2_May_2025_SB']['pressure[bar]'],label='AQ2')\n",
    "ax1.plot(dict_clean_measurements['RBR1_May_2025_SB']['pressure[bar]'][::2],label='RBR1 resampled (1Hz)')\n",
    "ax1.set(xlim=[datetime(2025,5,9,20,32,0),datetime(2025,5,9,20,34,0)],ylabel='pressure [bar]',\n",
    "        title=datetime(2025,5,9,20,32,0).strftime('%Y-%m-%d %H:%M:%S'))\n",
    "ax1.legend()\n",
    "\n",
    "ax2.plot(dict_clean_measurements['AQ2_May_2025_SB']['pressure[bar]'],label='AQ2')\n",
    "ax2.plot(dict_clean_measurements['RBR1_May_2025_SB']['pressure[bar]'][::2],label='RBR1')\n",
    "ax2.set(xlim=[datetime(2025,5,10,8,0,0),datetime(2025,5,10,8,2,0)],ylabel='pressure [bar]',\n",
    "        title=datetime(2025,5,10,8,0,0).strftime('%Y-%m-%d %H:%M:%S'))\n",
    "\n",
    "ax3.plot(dict_clean_measurements['AQ2_May_2025_SB']['pressure[bar]'],label='AQ2')\n",
    "ax3.plot(dict_clean_measurements['RBR1_May_2025_SB']['pressure[bar]'][::2],label='RBR1')\n",
    "ax3.set(xlim=[datetime(2025,5,16,14,12,0),datetime(2025,5,16,14,14,0)],ylabel='pressure [bar]',\n",
    "        title=datetime(2025,5,16,14,12,0).strftime('%Y-%m-%d %H:%M:%S'))\n",
    "plt.tight_layout()\n",
    "plt.suptitle('Pressure measurements from AQ2 and RBR1 in Sound Bay Reef Ball Out', fontsize=14,y=1.02)\n",
    "plt.show()"
   ]
  },
  {
   "cell_type": "code",
   "execution_count": 53,
   "id": "f8d5b58b",
   "metadata": {},
   "outputs": [
    {
     "data": {
      "image/png": "[encoded data removed]",
      "text/plain": [
       "<Figure size 1000x400 with 1 Axes>"
      ]
     },
     "metadata": {},
     "output_type": "display_data"
    }
   ],
   "source": [
    "import numpy as np\n",
    "\n",
    "# Simulate a signal with two frequencies: one below and one above the Nyquist frequency\n",
    "fs = 2  # Sampling frequency in Hz\n",
    "t = np.arange(0, 5, 1/fs)  # 5 seconds of data\n",
    "\n",
    "f1 = 0.7  # Hz, below Nyquist (fs/2 = 1 Hz)\n",
    "f2 = 1.3  # Hz, above Nyquist\n",
    "\n",
    "signal = np.sin(2 * np.pi * f1 * t) + np.sin(2 * np.pi * f2 * t)\n",
    "\n",
    "plt.figure(figsize=(10, 4))\n",
    "plt.plot(t, signal, label='Combined Signal')\n",
    "plt.title('Aliasing: Effect of Sampling Above and Below Nyquist Frequency')\n",
    "plt.xlabel('Time [s]')\n",
    "plt.ylabel('Amplitude')\n",
    "plt.legend()\n",
    "plt.grid(True)\n",
    "plt.tight_layout()\n",
    "plt.savefig('../docs/images/nyquist_example.png', dpi=300)\n",
    "plt.show()\n",
    "\n",
    "# Explanation: The 1.3 Hz component (above Nyquist) will appear as a lower frequency (aliasing)."
   ]
  },
  {
   "cell_type": "code",
   "execution_count": null,
   "id": "191c94e5",
   "metadata": {},
   "outputs": [],
   "source": []
  }
 ],
 "metadata": {
  "kernelspec": {
   "display_name": "general",
   "language": "python",
   "name": "python3"
  },
  "language_info": {
   "codemirror_mode": {
    "name": "ipython",
    "version": 3
   },
   "file_extension": ".py",
   "mimetype": "text/x-python",
   "name": "python",
   "nbconvert_exporter": "python",
   "pygments_lexer": "ipython3",
   "version": "3.10.9"
  }
 },
 "nbformat": 4,
 "nbformat_minor": 5
}
